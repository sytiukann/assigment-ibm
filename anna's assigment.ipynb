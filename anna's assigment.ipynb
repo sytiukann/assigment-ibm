{
 "cells": [
  {
   "cell_type": "markdown",
   "id": "fd85b1d3-5020-4c56-80ed-31446f05b49f",
   "metadata": {},
   "source": [
    "# My Jupyter Notebook on IBM Watson Studio\n"
   ]
  },
  {
   "cell_type": "markdown",
   "id": "5d7c7b7d-72b2-43b1-b6e7-54ae9ca8c73d",
   "metadata": {},
   "source": [
    "**Anna**\n",
    "\n",
    "PhD student in ecology "
   ]
  },
  {
   "cell_type": "markdown",
   "id": "e7679caf-8b31-46ef-bfaa-71797b6ea849",
   "metadata": {},
   "source": [
    " *I am interested in data science because I have been working with data for 3 years of my PhD. Thus, I realized that I prefer to work with data than  in academia*"
   ]
  },
  {
   "cell_type": "markdown",
   "id": "90d733f3-5ceb-4271-bfae-4e22b6e9d39e",
   "metadata": {},
   "source": [
    "### The following code tests the Gauss formula "
   ]
  },
  {
   "cell_type": "code",
   "execution_count": 4,
   "id": "2abece6b-3124-4c4b-89d6-9fba6d58de86",
   "metadata": {},
   "outputs": [
    {
     "data": {
      "text/plain": [
       "True"
      ]
     },
     "execution_count": 4,
     "metadata": {},
     "output_type": "execute_result"
    }
   ],
   "source": [
    "def gauss(n):\n",
    "    return(n*(n+1))/2\n",
    " \n",
    "gauss(100) == sum (range(101))\n"
   ]
  },
  {
   "cell_type": "markdown",
   "id": "bf071b58-f4d5-4018-ac9b-653ec490c450",
   "metadata": {},
   "source": [
    "* 1. This is a bullet/numbered list 1\n",
    "* 2. This is a bullet/numbered list 2\n",
    "* 3. This is a bullet/numbered list 3\n",
    "\n",
    "Markdown | Less | Pretty\n",
    "--- | :--- | ---\n",
    "*Still* | `renders` | **nicely**\n",
    "1 | 2 | 3"
   ]
  }
 ],
 "metadata": {
  "kernelspec": {
   "display_name": "Python",
   "language": "python",
   "name": "conda-env-python-py"
  },
  "language_info": {
   "codemirror_mode": {
    "name": "ipython",
    "version": 3
   },
   "file_extension": ".py",
   "mimetype": "text/x-python",
   "name": "python",
   "nbconvert_exporter": "python",
   "pygments_lexer": "ipython3",
   "version": "3.7.12"
  }
 },
 "nbformat": 4,
 "nbformat_minor": 5
}
